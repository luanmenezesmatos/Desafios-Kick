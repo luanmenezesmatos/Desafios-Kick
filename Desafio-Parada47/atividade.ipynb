{
 "cells": [
  {
   "cell_type": "code",
   "execution_count": 14,
   "metadata": {},
   "outputs": [
    {
     "name": "stdout",
     "output_type": "stream",
     "text": [
      "\n",
      "Contagem de entradas e saídas de cada aluno:\n",
      "Atividade                           Entrou  Saiu\n",
      "Nome                                            \n",
      "Beatriz Lemos Soares                     1     0\n",
      "Carolina Aparecida Henriques Prado       1     0\n",
      "Cauan Menezes de Matos Luiz              2     1\n",
      "Felipe de Souza Freitas                  2     1\n",
      "Fernando Marques dos Santos              1     0\n",
      "Hyago Martinez Rubo                      1     0\n",
      "Izaura dos Santos Souza                  1     0\n",
      "Kaique Donizeti da Silva                 1     0\n",
      "Maria Elyza Andrade Silva                1     1\n",
      "Maria Luiza Camargo Gonçalves            1     0\n",
      "Rayssa Barros Alves                      1     0\n",
      "Thiago Cauan de Lima Santos              1     0\n",
      "William Lourenço de Oliveira             1     0\n"
     ]
    }
   ],
   "source": [
    "import pandas as pd\n",
    "\n",
    "tabela = pd.read_excel(\"tabela_alunos.xlsx\")\n",
    "\n",
    "entradas_saidas = tabela.groupby(['Nome', 'Atividade']).size().unstack(fill_value=0)\n",
    "print(\"\\nContagem de entradas e saídas de cada aluno:\")\n",
    "print(entradas_saidas)"
   ]
  }
 ],
 "metadata": {
  "kernelspec": {
   "display_name": "Python 3",
   "language": "python",
   "name": "python3"
  },
  "language_info": {
   "codemirror_mode": {
    "name": "ipython",
    "version": 3
   },
   "file_extension": ".py",
   "mimetype": "text/x-python",
   "name": "python",
   "nbconvert_exporter": "python",
   "pygments_lexer": "ipython3",
   "version": "3.11.5"
  },
  "orig_nbformat": 4
 },
 "nbformat": 4,
 "nbformat_minor": 2
}
